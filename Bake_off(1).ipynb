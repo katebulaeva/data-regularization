{
 "cells": [
  {
   "cell_type": "markdown",
   "id": "c118122b",
   "metadata": {
    "slideshow": {
     "slide_type": "slide"
    }
   },
   "source": [
    "### Banana split\n"
   ]
  },
  {
   "cell_type": "markdown",
   "id": "75dfd461",
   "metadata": {
    "slideshow": {
     "slide_type": "fragment"
    }
   },
   "source": [
    "<table><tr>\n",
    "<td> <img src=https://rezept-db.womenshealth.de/image/rezept-db/fullWidth/Bananasplit.jpg.webp width=\"400\"/></td>\n",
    "<td> <img src= https://fotooboi.moscow/images/goods/big/20150815071453_Banany_8028_183.jpg width=\"200\"/></td>\n",
    "<td> <img src=https://encrypted-tbn0.gstatic.com/images?q=tbn:ANd9GcQutyoRtArzDPeqXR7bqZywr-1josOe8RhoEd2BxTQwu4b91HhBW5QTthedvIGkfi7_P34&usqp=CAU width=\"200\"/></td>\n",
    "</tr></table>"
   ]
  },
  {
   "cell_type": "markdown",
   "id": "27e78305",
   "metadata": {
    "slideshow": {
     "slide_type": "fragment"
    }
   },
   "source": [
    "- 🍌 bananas \n",
    "- 🍫 chocolate\n",
    "- 🥛 whipped cream\n",
    "- 🎊 decoration\n",
    "\n",
    "🛠️ microwave\n",
    "\n",
    "🕓 5 minutes"
   ]
  },
  {
   "cell_type": "markdown",
   "id": "a3501cf4",
   "metadata": {
    "slideshow": {
     "slide_type": "slide"
    }
   },
   "source": [
    "### Brownie"
   ]
  },
  {
   "cell_type": "markdown",
   "id": "f6fe8355",
   "metadata": {
    "slideshow": {
     "slide_type": "fragment"
    }
   },
   "source": [
    "<table><tr>\n",
    "<td> <img src=https://zenysro.cz/images/recipe/12482/main.jpg width=\"300\"/></td>\n",
    "<td> <img src=https://avatars.mds.yandex.net/i?id=393fbd30d09e463c7d00869780827cb36b34fcdf-5484664-images-thumbs&n=13 width=\"300\"/></td>\n",
    "<td> <img src=https://avatars.dzeninfra.ru/get-zen_doc/9120131/pub_64afb284f4127a4d8923c2cf_64afbb45a41d8f38a8edf27a/scale_1200 width=\"200\"/></td>\n",
    "</tr></table>"
   ]
  },
  {
   "cell_type": "markdown",
   "id": "87c529b4",
   "metadata": {
    "slideshow": {
     "slide_type": "fragment"
    }
   },
   "source": [
    "- flour - 5 tbsp;\n",
    "- milk - 50 ml;\n",
    "- sugar - 10 tsp;\n",
    "- butter - 30 g;\n",
    "- cocoa powder - 6 tsp;\n",
    "- salt - a pinch;\n",
    "- powdered sugar\n",
    "- any berries / ice cream\n",
    "\n",
    "❗️ OR ❗️ Dr. Oetker Brownies 🥂\n",
    "\n",
    "🛠️ microwave (650 watts 2 minutes and 30 seconds)\n",
    "\n",
    "🕓 total 10-15 minutes"
   ]
  },
  {
   "cell_type": "markdown",
   "id": "ebad5025",
   "metadata": {
    "slideshow": {
     "slide_type": "slide"
    }
   },
   "source": [
    "### Peanut butter jam sandwich with celery (really great taste!)"
   ]
  },
  {
   "cell_type": "markdown",
   "id": "749deced",
   "metadata": {
    "slideshow": {
     "slide_type": "fragment"
    }
   },
   "source": [
    "<table><tr>\n",
    "<td> <img src=https://avatars.dzeninfra.ru/get-zen_doc/5210731/pub_60d8ab79f47c9a12d7ff69ca_60d8b6189051453050ffa4c5/scale_1200 width=\"200\"/></td>\n",
    "<td> <img src=https://i.pinimg.com/originals/d9/5c/70/d95c7003dd69e017a8dd6ef79ec8d1b0.jpg width=\"200\"/></td>\n",
    "<td> <img src=https://images.ctfassets.net/4h8s6y60f7sb/2OpS2nrdPlERSwr5VO4arc/a8297f11ef998b05cde478d59cfe6d38/peanutbutterjelly.jpg?w=1440&fm=jpg&q=90 width=\"200\"/></td>\n",
    "</tr></table>"
   ]
  },
  {
   "cell_type": "markdown",
   "id": "e770a664",
   "metadata": {
    "slideshow": {
     "slide_type": "fragment"
    }
   },
   "source": [
    "- peanut butter\n",
    "- whole grain bread\n",
    "- jam (ideally cranberry)\n",
    "- celery\n",
    "\n",
    "🕓 5 minutes"
   ]
  },
  {
   "cell_type": "markdown",
   "id": "7b81e84a",
   "metadata": {
    "slideshow": {
     "slide_type": "slide"
    }
   },
   "source": [
    "### anything in a glass"
   ]
  },
  {
   "cell_type": "markdown",
   "id": "0b8994ce",
   "metadata": {
    "slideshow": {
     "slide_type": "fragment"
    }
   },
   "source": [
    "<table><tr>\n",
    "<td> <img src=https://avatars.mds.yandex.net/i?id=fc97ca4917df2e32a089c706babd0d4f93451b6b-4809667-images-thumbs&ref=rim&n=33&w=271&h=400 width=\"200\"/></td>\n",
    "<td> <img src=https://e1.edimdoma.ru/data/recipe_steps/0064/4729/644729-ed4_thumb.jpg?1591356039 width=\"400\"/></td>\n",
    "<td> <img src=https://podacha-blud.com/uploads/posts/2022-12/1670908362_51-podacha-blud-com-p-pp-deserti-foto-v-domashnikh-usloviyakh-51.jpg width=\"200\"/></td>\n",
    "</tr></table>"
   ]
  },
  {
   "cell_type": "markdown",
   "id": "509d9db6",
   "metadata": {
    "slideshow": {
     "slide_type": "fragment"
    }
   },
   "source": [
    "- cocos milk\n",
    "- chia seeds\n",
    "- kekse\n",
    "- berries\n",
    "- ...\n",
    "\n",
    "🕓 5 minutes"
   ]
  },
  {
   "cell_type": "markdown",
   "id": "03cb60a5",
   "metadata": {
    "slideshow": {
     "slide_type": "slide"
    }
   },
   "source": [
    "### 'Potato' cake"
   ]
  },
  {
   "cell_type": "markdown",
   "id": "a9f1726d",
   "metadata": {
    "slideshow": {
     "slide_type": "fragment"
    }
   },
   "source": [
    "<table><tr>\n",
    "<td> <img src=https://cs12.pikabu.ru/post_img/2020/05/04/9/1588601407198067553.jpg width=\"300\"/></td>\n",
    "<td> <img src=https://malinika.ru/wp-content/uploads/5/2/7/527612cee94cc6f0bb1bcf0f95a40cea.jpeg width=\"300\"/></td>\n",
    "<td> <img src=https://balthazar.club/uploads/posts/2022-10/1666394379_53-balthazar-club-p-pirozhnoe-kartoshka-bez-glyutena-krasivo-53.jpg width=\"200\"/></td>\n",
    "</tr></table>"
   ]
  },
  {
   "cell_type": "markdown",
   "id": "f90d0b23",
   "metadata": {
    "slideshow": {
     "slide_type": "fragment"
    }
   },
   "source": [
    "- Butter - 100 g\n",
    "- Condensed milk - 200 g\n",
    "- Cocoa - 5 tbsp\n",
    "- Cookies - 300 g\n",
    "- For decoration: powdered sugar, walnuts, almonds, cocoa (optional)\n",
    "\n",
    "🕓 5 minutes"
   ]
  },
  {
   "cell_type": "markdown",
   "id": "ec6aa99a",
   "metadata": {
    "slideshow": {
     "slide_type": "slide"
    }
   },
   "source": [
    "### Tarts: cream and berry "
   ]
  },
  {
   "cell_type": "markdown",
   "id": "dad37d44",
   "metadata": {
    "slideshow": {
     "slide_type": "fragment"
    }
   },
   "source": [
    "<table><tr>\n",
    "<td> <img src=https://foodmood.ru/upload/iblock/556/5568b415ddfed9053c2bce5bd10f8b25.jpg width=\"200\"/></td>\n",
    "<td> <img src=https://mykaleidoscope.ru/uploads/posts/2020-03/1583408480_38-p-pirozhnie-s-pesochnim-testom-82.jpg width=\"300\"/></td>\n",
    "<td> <img src=https://suomimagazin.ru/800/600/http/sgushhenka.ru/wp-content/uploads/2020/01/testotartaletki-7.jpg width=\"300\"/></td>\n",
    "</tr></table>"
   ]
  },
  {
   "cell_type": "markdown",
   "id": "9f9af04d",
   "metadata": {
    "slideshow": {
     "slide_type": "fragment"
    }
   },
   "source": [
    "- prepared tarts\n",
    "- milk 500ml\n",
    "- powdered sugar 80 g\n",
    "- egg yolks 3 pcs\n",
    "- white chocolate(?) 100 g\n",
    "- cornstarch 60 g\n",
    "- vanilla\n",
    "- butter 50 g\n",
    "- berries\n",
    "\n",
    "🕓 35 minutes"
   ]
  },
  {
   "cell_type": "markdown",
   "id": "cc60913a",
   "metadata": {
    "slideshow": {
     "slide_type": "slide"
    }
   },
   "source": [
    "### 5-Minute Microwave Cheesecake"
   ]
  },
  {
   "cell_type": "markdown",
   "id": "325d2578",
   "metadata": {
    "slideshow": {
     "slide_type": "fragment"
    }
   },
   "source": [
    "<table><tr>\n",
    "<td> <img src=https://img.buzzfeed.com/video-api-prod/assets/7841a26fa9764c2dbb34c845fb5f1f9c/BFV27602_MicrowaveCheesecake-ThumbA1080.jpg width=\"200\"/></td>\n",
    "</tr></table>\n"
   ]
  },
  {
   "cell_type": "markdown",
   "id": "7080dae0",
   "metadata": {
    "slideshow": {
     "slide_type": "fragment"
    }
   },
   "source": [
    "- tablespoon butter\n",
    "- sheets graham cracker\n",
    "- oz cream cheese (115 g), softened 2 tablespoons sugar\n",
    "- drops vanilla extract\n",
    "- fresh raspberries, for serving"
   ]
  },
  {
   "cell_type": "markdown",
   "id": "12bc4c91",
   "metadata": {
    "slideshow": {
     "slide_type": "slide"
    }
   },
   "source": [
    "### Microwave Chocolate Lava Cake"
   ]
  },
  {
   "cell_type": "markdown",
   "id": "b697ba98",
   "metadata": {
    "slideshow": {
     "slide_type": "fragment"
    }
   },
   "source": [
    "<table><tr>\n",
    "<td> <img src=https://img.buzzfeed.com/thumbnailer-prod-us-east-1/b425683e4bfe42e7860cb6bb6116b092/MICROWAVEFB.jpg width=\"200\"/></td>\n",
    "</tr></table>"
   ]
  },
  {
   "cell_type": "markdown",
   "id": "5c8417d9",
   "metadata": {
    "slideshow": {
     "slide_type": "fragment"
    }
   },
   "source": [
    "- flour\n",
    "- teaspoon baking powder\n",
    "- tablespoons sugar\n",
    "- tablespoons cocoa powder 1⁄8 teaspoon salt\n",
    "- tablespoons oil\n",
    "- tablespoons milk\n",
    "- chocolate truffle\n",
    "- scoop ice cream, optional"
   ]
  },
  {
   "cell_type": "markdown",
   "id": "0e643e88",
   "metadata": {
    "slideshow": {
     "slide_type": "skip"
    }
   },
   "source": [
    "### 5-Minute Microwave Cheesecake\n",
    "tablespoon butter\n",
    "sheets graham cracker\n",
    "oz cream cheese (115 g), softened 2 tablespoons sugar\n",
    "drops vanilla extract\n",
    "fresh raspberries, for serving"
   ]
  },
  {
   "cell_type": "code",
   "execution_count": 3,
   "id": "d40347cc",
   "metadata": {},
   "outputs": [
    {
     "name": "stdout",
     "output_type": "stream",
     "text": [
      "\u001b[KAborting commit due to empty commit message.... \n",
      "Everything up-to-date\n"
     ]
    }
   ],
   "source": [
    "!git add 'Bake_off(1).ipynb'\n",
    "!git commit\n",
    "!git push origin master"
   ]
  },
  {
   "cell_type": "code",
   "execution_count": null,
   "id": "e89806e1",
   "metadata": {},
   "outputs": [],
   "source": []
  }
 ],
 "metadata": {
  "celltoolbar": "Slideshow",
  "kernelspec": {
   "display_name": "Python 3 (ipykernel)",
   "language": "python",
   "name": "python3"
  },
  "language_info": {
   "codemirror_mode": {
    "name": "ipython",
    "version": 3
   },
   "file_extension": ".py",
   "mimetype": "text/x-python",
   "name": "python",
   "nbconvert_exporter": "python",
   "pygments_lexer": "ipython3",
   "version": "3.10.6"
  },
  "toc": {
   "base_numbering": 1,
   "nav_menu": {},
   "number_sections": true,
   "sideBar": true,
   "skip_h1_title": false,
   "title_cell": "Table of Contents",
   "title_sidebar": "Contents",
   "toc_cell": false,
   "toc_position": {},
   "toc_section_display": true,
   "toc_window_display": false
  }
 },
 "nbformat": 4,
 "nbformat_minor": 5
}
